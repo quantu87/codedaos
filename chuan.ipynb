{
  "cells": [
    {
      "cell_type": "code",
      "execution_count": null,
      "metadata": {
        "id": "VjYy0F2gZIPR",
        "outputId": "17102c18-e22b-4417-b60a-89901993d0f6",
        "colab": {
          "base_uri": "https://localhost:8080/"
        }
      },
      "outputs": [
        {
          "output_type": "stream",
          "name": "stdout",
          "text": [
            "/content\n",
            "fatal: destination path 'dichtieng' already exists and is not an empty directory.\n",
            "\u001b[2K     \u001b[90m━━━━━━━━━━━━━━━━━━━━━━━━━━━━━━━━━━━━━━━━\u001b[0m \u001b[32m201.6/201.6 kB\u001b[0m \u001b[31m4.4 MB/s\u001b[0m eta \u001b[36m0:00:00\u001b[0m\n",
            "\u001b[?25h--2024-08-14 09:10:10--  https://huggingface.co/spaces/facebook/seamless-m4t-v2-large/resolve/main/assets/sample_input.mp3\n",
            "Resolving huggingface.co (huggingface.co)... 3.163.189.90, 3.163.189.74, 3.163.189.114, ...\n",
            "Connecting to huggingface.co (huggingface.co)|3.163.189.90|:443... connected.\n",
            "HTTP request sent, awaiting response... 302 Found\n",
            "Location: https://cdn-lfs.huggingface.co/repos/ae/0d/ae0ded862d8517221300595a42096db67218a6b54e42f6bde82aa51b05da9a35/982369687f05bf8fcd6923c4ffcccda0fcce92f44eceae5a9d00a431f07ea87b?response-content-disposition=inline%3B+filename*%3DUTF-8%27%27sample_input.mp3%3B+filename%3D%22sample_input.mp3%22%3B&response-content-type=audio%2Fmpeg&Expires=1723885810&Policy=eyJTdGF0ZW1lbnQiOlt7IkNvbmRpdGlvbiI6eyJEYXRlTGVzc1RoYW4iOnsiQVdTOkVwb2NoVGltZSI6MTcyMzg4NTgxMH19LCJSZXNvdXJjZSI6Imh0dHBzOi8vY2RuLWxmcy5odWdnaW5nZmFjZS5jby9yZXBvcy9hZS8wZC9hZTBkZWQ4NjJkODUxNzIyMTMwMDU5NWE0MjA5NmRiNjcyMThhNmI1NGU0MmY2YmRlODJhYTUxYjA1ZGE5YTM1Lzk4MjM2OTY4N2YwNWJmOGZjZDY5MjNjNGZmY2NjZGEwZmNjZTkyZjQ0ZWNlYWU1YTlkMDBhNDMxZjA3ZWE4N2I%7EcmVzcG9uc2UtY29udGVudC1kaXNwb3NpdGlvbj0qJnJlc3BvbnNlLWNvbnRlbnQtdHlwZT0qIn1dfQ__&Signature=QHh52zN5KpO3sL8z6n8yH6Fbw-H5F-udSAjtboD-NnwKOMEN1wLJmSwJzFYMn9YbcnfiscAysJt1F-gE3x-NMb2TRwkPpkwatMrP4b2pB23qyb8pFSYUng54XMzyLscr7qKPv-eGq5N2ufmRq%7EyNbrGQdRT%7El3bcoTetB1OZSBs94vokZ6v9RNF3nNX3vMeqVFRso6UawocPF4%7E1YLQzrluFyFSztX2FShE1cAi0Udm2ca-xG9eLJZSLLHTDdn8mbW6SJl4ul2NUPN1B-3qAKZrwqmCTpPwpJ1-r4f8AkWcqog-qnxxwGIQlFQ2yYJWsxJz97ZKWQG5ODWErCi6oCg__&Key-Pair-Id=K3ESJI6DHPFC7 [following]\n",
            "--2024-08-14 09:10:10--  https://cdn-lfs.huggingface.co/repos/ae/0d/ae0ded862d8517221300595a42096db67218a6b54e42f6bde82aa51b05da9a35/982369687f05bf8fcd6923c4ffcccda0fcce92f44eceae5a9d00a431f07ea87b?response-content-disposition=inline%3B+filename*%3DUTF-8%27%27sample_input.mp3%3B+filename%3D%22sample_input.mp3%22%3B&response-content-type=audio%2Fmpeg&Expires=1723885810&Policy=eyJTdGF0ZW1lbnQiOlt7IkNvbmRpdGlvbiI6eyJEYXRlTGVzc1RoYW4iOnsiQVdTOkVwb2NoVGltZSI6MTcyMzg4NTgxMH19LCJSZXNvdXJjZSI6Imh0dHBzOi8vY2RuLWxmcy5odWdnaW5nZmFjZS5jby9yZXBvcy9hZS8wZC9hZTBkZWQ4NjJkODUxNzIyMTMwMDU5NWE0MjA5NmRiNjcyMThhNmI1NGU0MmY2YmRlODJhYTUxYjA1ZGE5YTM1Lzk4MjM2OTY4N2YwNWJmOGZjZDY5MjNjNGZmY2NjZGEwZmNjZTkyZjQ0ZWNlYWU1YTlkMDBhNDMxZjA3ZWE4N2I%7EcmVzcG9uc2UtY29udGVudC1kaXNwb3NpdGlvbj0qJnJlc3BvbnNlLWNvbnRlbnQtdHlwZT0qIn1dfQ__&Signature=QHh52zN5KpO3sL8z6n8yH6Fbw-H5F-udSAjtboD-NnwKOMEN1wLJmSwJzFYMn9YbcnfiscAysJt1F-gE3x-NMb2TRwkPpkwatMrP4b2pB23qyb8pFSYUng54XMzyLscr7qKPv-eGq5N2ufmRq%7EyNbrGQdRT%7El3bcoTetB1OZSBs94vokZ6v9RNF3nNX3vMeqVFRso6UawocPF4%7E1YLQzrluFyFSztX2FShE1cAi0Udm2ca-xG9eLJZSLLHTDdn8mbW6SJl4ul2NUPN1B-3qAKZrwqmCTpPwpJ1-r4f8AkWcqog-qnxxwGIQlFQ2yYJWsxJz97ZKWQG5ODWErCi6oCg__&Key-Pair-Id=K3ESJI6DHPFC7\n",
            "Resolving cdn-lfs.huggingface.co (cdn-lfs.huggingface.co)... 18.65.229.73, 18.65.229.35, 18.65.229.83, ...\n",
            "Connecting to cdn-lfs.huggingface.co (cdn-lfs.huggingface.co)|18.65.229.73|:443... connected.\n",
            "HTTP request sent, awaiting response... 200 OK\n",
            "Length: 10272 (10K) [audio/mpeg]\n",
            "Saving to: ‘/content/seamless-m4t-v2-large-hf/assets/sample_input.mp3’\n",
            "\n",
            "/content/seamless-m 100%[===================>]  10.03K  --.-KB/s    in 0s      \n",
            "\n",
            "2024-08-14 09:10:10 (35.9 MB/s) - ‘/content/seamless-m4t-v2-large-hf/assets/sample_input.mp3’ saved [10272/10272]\n",
            "\n",
            "--2024-08-14 09:10:10--  https://huggingface.co/spaces/facebook/seamless-m4t-v2-large/resolve/main/assets/sample_input_2.mp3\n",
            "Resolving huggingface.co (huggingface.co)... 3.163.189.90, 3.163.189.74, 3.163.189.114, ...\n",
            "Connecting to huggingface.co (huggingface.co)|3.163.189.90|:443... connected.\n",
            "HTTP request sent, awaiting response... 302 Found\n",
            "Location: https://cdn-lfs.huggingface.co/repos/ae/0d/ae0ded862d8517221300595a42096db67218a6b54e42f6bde82aa51b05da9a35/6a505a4641e3f5f0ddec9508832793aa20e63d2545530b66bc04a9bd19a742e6?response-content-disposition=inline%3B+filename*%3DUTF-8%27%27sample_input_2.mp3%3B+filename%3D%22sample_input_2.mp3%22%3B&response-content-type=audio%2Fmpeg&Expires=1723885810&Policy=eyJTdGF0ZW1lbnQiOlt7IkNvbmRpdGlvbiI6eyJEYXRlTGVzc1RoYW4iOnsiQVdTOkVwb2NoVGltZSI6MTcyMzg4NTgxMH19LCJSZXNvdXJjZSI6Imh0dHBzOi8vY2RuLWxmcy5odWdnaW5nZmFjZS5jby9yZXBvcy9hZS8wZC9hZTBkZWQ4NjJkODUxNzIyMTMwMDU5NWE0MjA5NmRiNjcyMThhNmI1NGU0MmY2YmRlODJhYTUxYjA1ZGE5YTM1LzZhNTA1YTQ2NDFlM2Y1ZjBkZGVjOTUwODgzMjc5M2FhMjBlNjNkMjU0NTUzMGI2NmJjMDRhOWJkMTlhNzQyZTY%7EcmVzcG9uc2UtY29udGVudC1kaXNwb3NpdGlvbj0qJnJlc3BvbnNlLWNvbnRlbnQtdHlwZT0qIn1dfQ__&Signature=eYKIW420hkkG-2P%7EVu8ICRaQw2fvcueU1NlNBm3zHOmBvonwv7zDuGAIR84EV42Vrv6aJOG1o28XxVWhBs9pQndPRxJwwESbcZPrsmOHmKXrXIAHPTqjNA4-B2o7C5SxGTaOsCJT666UxNqgu5e5zDolH-yQX0B27%7EENMi%7E9MhxXegAyd6kCAJMYcq%7EVmLzz0JHj%7E3DfjrPLGcp8I4YAaPTL-PMo4crvoGsVbnh7YMX0NhjCN9GOf0Dfh6gs9OK-hIa%7EV1i5aSnLoStR7mVWMTzIOmHV4gMAzmGKFR92J2t35L85S%7EQqlFbyFPUnS74SmN4QBLz6B92v7paksISxOw__&Key-Pair-Id=K3ESJI6DHPFC7 [following]\n",
            "--2024-08-14 09:10:10--  https://cdn-lfs.huggingface.co/repos/ae/0d/ae0ded862d8517221300595a42096db67218a6b54e42f6bde82aa51b05da9a35/6a505a4641e3f5f0ddec9508832793aa20e63d2545530b66bc04a9bd19a742e6?response-content-disposition=inline%3B+filename*%3DUTF-8%27%27sample_input_2.mp3%3B+filename%3D%22sample_input_2.mp3%22%3B&response-content-type=audio%2Fmpeg&Expires=1723885810&Policy=eyJTdGF0ZW1lbnQiOlt7IkNvbmRpdGlvbiI6eyJEYXRlTGVzc1RoYW4iOnsiQVdTOkVwb2NoVGltZSI6MTcyMzg4NTgxMH19LCJSZXNvdXJjZSI6Imh0dHBzOi8vY2RuLWxmcy5odWdnaW5nZmFjZS5jby9yZXBvcy9hZS8wZC9hZTBkZWQ4NjJkODUxNzIyMTMwMDU5NWE0MjA5NmRiNjcyMThhNmI1NGU0MmY2YmRlODJhYTUxYjA1ZGE5YTM1LzZhNTA1YTQ2NDFlM2Y1ZjBkZGVjOTUwODgzMjc5M2FhMjBlNjNkMjU0NTUzMGI2NmJjMDRhOWJkMTlhNzQyZTY%7EcmVzcG9uc2UtY29udGVudC1kaXNwb3NpdGlvbj0qJnJlc3BvbnNlLWNvbnRlbnQtdHlwZT0qIn1dfQ__&Signature=eYKIW420hkkG-2P%7EVu8ICRaQw2fvcueU1NlNBm3zHOmBvonwv7zDuGAIR84EV42Vrv6aJOG1o28XxVWhBs9pQndPRxJwwESbcZPrsmOHmKXrXIAHPTqjNA4-B2o7C5SxGTaOsCJT666UxNqgu5e5zDolH-yQX0B27%7EENMi%7E9MhxXegAyd6kCAJMYcq%7EVmLzz0JHj%7E3DfjrPLGcp8I4YAaPTL-PMo4crvoGsVbnh7YMX0NhjCN9GOf0Dfh6gs9OK-hIa%7EV1i5aSnLoStR7mVWMTzIOmHV4gMAzmGKFR92J2t35L85S%7EQqlFbyFPUnS74SmN4QBLz6B92v7paksISxOw__&Key-Pair-Id=K3ESJI6DHPFC7\n",
            "Resolving cdn-lfs.huggingface.co (cdn-lfs.huggingface.co)... 18.65.229.73, 18.65.229.35, 18.65.229.83, ...\n",
            "Connecting to cdn-lfs.huggingface.co (cdn-lfs.huggingface.co)|18.65.229.73|:443... connected.\n",
            "HTTP request sent, awaiting response... 200 OK\n",
            "Length: 30624 (30K) [audio/mpeg]\n",
            "Saving to: ‘/content/seamless-m4t-v2-large-hf/assets/sample_input_2.mp3’\n",
            "\n",
            "/content/seamless-m 100%[===================>]  29.91K  --.-KB/s    in 0.006s  \n",
            "\n",
            "2024-08-14 09:10:10 (4.60 MB/s) - ‘/content/seamless-m4t-v2-large-hf/assets/sample_input_2.mp3’ saved [30624/30624]\n",
            "\n",
            "aria2 is already the newest version (1.36.0-1).\n",
            "0 upgraded, 0 newly installed, 0 to remove and 45 not upgraded.\n",
            "\n",
            "Download Results:\n",
            "gid   |stat|avg speed  |path/URI\n",
            "======+====+===========+=======================================================\n",
            "bcd83d|\u001b[1;32mOK\u001b[0m  |       0B/s|/content/models/seamlessM4T_v2_large.pt\n",
            "\n",
            "Status Legend:\n",
            "(OK):download completed.\n",
            "\n",
            "Download Results:\n",
            "gid   |stat|avg speed  |path/URI\n",
            "======+====+===========+=======================================================\n",
            "43ae3c|\u001b[1;32mOK\u001b[0m  |       0B/s|/content/models/spm_char_lang38_tc.model\n",
            "\n",
            "Status Legend:\n",
            "(OK):download completed.\n",
            "\n",
            "Download Results:\n",
            "gid   |stat|avg speed  |path/URI\n",
            "======+====+===========+=======================================================\n",
            "63b8fe|\u001b[1;32mOK\u001b[0m  |       0B/s|/content/models/vocoder_v2.pt\n",
            "\n",
            "Status Legend:\n",
            "(OK):download completed.\n",
            "/content/dichtieng\n",
            "Using the cached tokenizer of seamlessM4T_v2_large. Set `force` to `True` to download again.\n",
            "Using the cached tokenizer of seamlessM4T_v2_large. Set `force` to `True` to download again.\n",
            "Using the cached etox dataset. Set `force` to `True` to download again.\n",
            "Using the cached tokenizer of mintox. Set `force` to `True` to download again.\n",
            "/usr/local/lib/python3.10/dist-packages/torch/nn/utils/weight_norm.py:28: UserWarning: torch.nn.utils.weight_norm is deprecated in favor of torch.nn.utils.parametrizations.weight_norm.\n",
            "  warnings.warn(\"torch.nn.utils.weight_norm is deprecated in favor of torch.nn.utils.parametrizations.weight_norm.\")\n",
            "2024-08-14 09:11:14,764 INFO -- httpx: HTTP Request: GET https://api.gradio.app/pkg-version \"HTTP/1.1 200 OK\"\n",
            "2024-08-14 09:11:14,863 INFO -- httpx: HTTP Request: GET https://checkip.amazonaws.com/ \"HTTP/1.1 200 \"\n",
            "2024-08-14 09:11:14,944 INFO -- httpx: HTTP Request: GET https://api.gradio.app/pkg-version \"HTTP/1.1 200 OK\"\n",
            "2024-08-14 09:11:15,080 INFO -- httpx: HTTP Request: GET https://api.gradio.app/pkg-version \"HTTP/1.1 200 OK\"\n",
            "2024-08-14 09:11:15,114 INFO -- httpx: HTTP Request: GET https://checkip.amazonaws.com/ \"HTTP/1.1 200 \"\n",
            "2024-08-14 09:11:15,223 INFO -- httpx: HTTP Request: GET https://api.gradio.app/pkg-version \"HTTP/1.1 200 OK\"\n",
            "2024-08-14 09:11:15,391 INFO -- httpx: HTTP Request: GET https://api.gradio.app/pkg-version \"HTTP/1.1 200 OK\"\n",
            "2024-08-14 09:11:15,714 INFO -- httpx: HTTP Request: GET https://api.gradio.app/pkg-version \"HTTP/1.1 200 OK\"\n",
            "Running on local URL:  http://127.0.0.1:7860\n",
            "2024-08-14 09:11:15,994 INFO -- httpx: HTTP Request: GET http://127.0.0.1:7860/startup-events \"HTTP/1.1 200 OK\"\n",
            "2024-08-14 09:11:16,028 INFO -- httpx: HTTP Request: HEAD http://127.0.0.1:7860/ \"HTTP/1.1 200 OK\"\n",
            "2024-08-14 09:11:16,168 INFO -- httpx: HTTP Request: GET https://api.gradio.app/v2/tunnel-request \"HTTP/1.1 200 OK\"\n",
            "Running on public URL: https://fb3c3e26343411840a.gradio.live\n",
            "\n",
            "This share link expires in 72 hours. For free permanent hosting and GPU upgrades, run `gradio deploy` from Terminal to deploy to Spaces (https://huggingface.co/spaces)\n"
          ]
        }
      ],
      "source": [
        "%cd /content\n",
        "!git clone https://github.com/quantu87/dichtieng\n",
        "\n",
        "!pip install -q fairseq2 gradio\n",
        "!pip install -q https://huggingface.co/spaces/facebook/seamless-m4t-v2-large/resolve/main/whl/seamless_communication-1.0.0-py3-none-any.whl\n",
        "\n",
        "!wget https://huggingface.co/spaces/facebook/seamless-m4t-v2-large/resolve/main/assets/sample_input.mp3 -O /content/seamless-m4t-v2-large-hf/assets/sample_input.mp3\n",
        "!wget https://huggingface.co/spaces/facebook/seamless-m4t-v2-large/resolve/main/assets/sample_input_2.mp3 -O /content/seamless-m4t-v2-large-hf/assets/sample_input_2.mp3\n",
        "\n",
        "!apt -y install -qq aria2\n",
        "!aria2c --console-log-level=error -c -x 16 -s 16 -k 1M https://huggingface.co/facebook/seamless-m4t-v2-large/resolve/main/seamlessM4T_v2_large.pt -d /content/models -o seamlessM4T_v2_large.pt\n",
        "!aria2c --console-log-level=error -c -x 16 -s 16 -k 1M https://huggingface.co/facebook/seamless-m4t-v2-large/resolve/main/spm_char_lang38_tc.model -d /content/models -o spm_char_lang38_tc.model\n",
        "!aria2c --console-log-level=error -c -x 16 -s 16 -k 1M https://huggingface.co/facebook/seamless-m4t-v2-large/resolve/main/vocoder_v2.pt -d /content/models -o vocoder_v2.pt\n",
        "\n",
        "%cd /content/dichtieng\n",
        "!python app.py"
      ]
    }
  ],
  "metadata": {
    "colab": {
      "provenance": []
    },
    "kernelspec": {
      "display_name": "Python 3",
      "name": "python3"
    },
    "language_info": {
      "name": "python"
    }
  },
  "nbformat": 4,
  "nbformat_minor": 0
}